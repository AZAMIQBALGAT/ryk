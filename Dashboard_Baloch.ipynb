{
 "cells": [
  {
   "cell_type": "code",
   "execution_count": 1,
   "metadata": {},
   "outputs": [
    {
     "data": {
      "application/javascript": "(function(root) {\n  function now() {\n    return new Date();\n  }\n\n  var force = true;\n\n  if (typeof root._bokeh_onload_callbacks === \"undefined\" || force === true) {\n    root._bokeh_onload_callbacks = [];\n    root._bokeh_is_loading = undefined;\n  }\n\n  if (typeof (root._bokeh_timeout) === \"undefined\" || force === true) {\n    root._bokeh_timeout = Date.now() + 5000;\n    root._bokeh_failed_load = false;\n  }\n\n  function run_callbacks() {\n    try {\n      root._bokeh_onload_callbacks.forEach(function(callback) {\n        if (callback != null)\n          callback();\n      });\n    } finally {\n      delete root._bokeh_onload_callbacks\n    }\n    console.debug(\"Bokeh: all callbacks have finished\");\n  }\n\n  function load_libs(css_urls, js_urls, js_modules, callback) {\n    if (css_urls == null) css_urls = [];\n    if (js_urls == null) js_urls = [];\n    if (js_modules == null) js_modules = [];\n\n    root._bokeh_onload_callbacks.push(callback);\n    if (root._bokeh_is_loading > 0) {\n      console.debug(\"Bokeh: BokehJS is being loaded, scheduling callback at\", now());\n      return null;\n    }\n    if (js_urls.length === 0 && js_modules.length === 0) {\n      run_callbacks();\n      return null;\n    }\n    console.debug(\"Bokeh: BokehJS not loaded, scheduling load and callback at\", now());\n\n    function on_load() {\n      root._bokeh_is_loading--;\n      if (root._bokeh_is_loading === 0) {\n        console.debug(\"Bokeh: all BokehJS libraries/stylesheets loaded\");\n        run_callbacks()\n      }\n    }\n\n    function on_error() {\n      console.error(\"failed to load \" + url);\n    }\n\n    for (var i = 0; i < css_urls.length; i++) {\n      var url = css_urls[i];\n      const element = document.createElement(\"link\");\n      element.onload = on_load;\n      element.onerror = on_error;\n      element.rel = \"stylesheet\";\n      element.type = \"text/css\";\n      element.href = url;\n      console.debug(\"Bokeh: injecting link tag for BokehJS stylesheet: \", url);\n      document.body.appendChild(element);\n    }\n\n    var skip = [];\n    if (window.requirejs) {\n      window.requirejs.config({'packages': {}, 'paths': {'tabulator': 'https://cdn.jsdelivr.net/npm/tabulator-tables@5.3.2/dist/js/tabulator', 'moment': 'https://cdn.jsdelivr.net/npm/luxon/build/global/luxon.min', 'gridstack': 'https://cdn.jsdelivr.net/npm/gridstack@4.2.5/dist/gridstack-h5', 'notyf': 'https://cdn.jsdelivr.net/npm/notyf@3/notyf.min'}, 'shim': {'gridstack': {'exports': 'GridStack'}}});\n      require([\"tabulator\"], function(Tabulator) {\n\twindow.Tabulator = Tabulator\n\ton_load()\n      })\n      require([\"moment\"], function(moment) {\n\twindow.moment = moment\n\ton_load()\n      })\n      require([\"gridstack\"], function(GridStack) {\n\twindow.GridStack = GridStack\n\ton_load()\n      })\n      require([\"notyf\"], function() {\n\ton_load()\n      })\n      root._bokeh_is_loading = css_urls.length + 4;\n    } else {\n      root._bokeh_is_loading = css_urls.length + js_urls.length + js_modules.length;\n    }    if (((window['Tabulator'] !== undefined) && (!(window['Tabulator'] instanceof HTMLElement))) || window.requirejs) {\n      var urls = ['https://cdn.holoviz.org/panel/0.14.1/dist/bundled/datatabulator/tabulator-tables@5.3.2/dist/js/tabulator.js'];\n      for (var i = 0; i < urls.length; i++) {\n        skip.push(urls[i])\n      }\n    }    if (((window['moment'] !== undefined) && (!(window['moment'] instanceof HTMLElement))) || window.requirejs) {\n      var urls = ['https://cdn.holoviz.org/panel/0.14.1/dist/bundled/datatabulator/luxon/build/global/luxon.min.js'];\n      for (var i = 0; i < urls.length; i++) {\n        skip.push(urls[i])\n      }\n    }    if (((window['GridStack'] !== undefined) && (!(window['GridStack'] instanceof HTMLElement))) || window.requirejs) {\n      var urls = ['https://cdn.holoviz.org/panel/0.14.1/dist/bundled/gridstack/gridstack@4.2.5/dist/gridstack-h5.js'];\n      for (var i = 0; i < urls.length; i++) {\n        skip.push(urls[i])\n      }\n    }    if (((window['Notyf'] !== undefined) && (!(window['Notyf'] instanceof HTMLElement))) || window.requirejs) {\n      var urls = ['https://cdn.holoviz.org/panel/0.14.1/dist/bundled/notificationarea/notyf@3/notyf.min.js'];\n      for (var i = 0; i < urls.length; i++) {\n        skip.push(urls[i])\n      }\n    }    for (var i = 0; i < js_urls.length; i++) {\n      var url = js_urls[i];\n      if (skip.indexOf(url) >= 0) {\n\tif (!window.requirejs) {\n\t  on_load();\n\t}\n\tcontinue;\n      }\n      var element = document.createElement('script');\n      element.onload = on_load;\n      element.onerror = on_error;\n      element.async = false;\n      element.src = url;\n      console.debug(\"Bokeh: injecting script tag for BokehJS library: \", url);\n      document.head.appendChild(element);\n    }\n    for (var i = 0; i < js_modules.length; i++) {\n      var url = js_modules[i];\n      if (skip.indexOf(url) >= 0) {\n\tif (!window.requirejs) {\n\t  on_load();\n\t}\n\tcontinue;\n      }\n      var element = document.createElement('script');\n      element.onload = on_load;\n      element.onerror = on_error;\n      element.async = false;\n      element.src = url;\n      element.type = \"module\";\n      console.debug(\"Bokeh: injecting script tag for BokehJS library: \", url);\n      document.head.appendChild(element);\n    }\n    if (!js_urls.length && !js_modules.length) {\n      on_load()\n    }\n  };\n\n  function inject_raw_css(css) {\n    const element = document.createElement(\"style\");\n    element.appendChild(document.createTextNode(css));\n    document.body.appendChild(element);\n  }\n\n  var js_urls = [\"https://cdn.holoviz.org/panel/0.14.1/dist/bundled/datatabulator/tabulator-tables@5.3.2/dist/js/tabulator.js\", \"https://cdn.holoviz.org/panel/0.14.1/dist/bundled/datatabulator/luxon/build/global/luxon.min.js\", \"https://cdn.bokeh.org/bokeh/release/bokeh-2.4.3.min.js\", \"https://cdn.bokeh.org/bokeh/release/bokeh-gl-2.4.3.min.js\", \"https://cdn.bokeh.org/bokeh/release/bokeh-widgets-2.4.3.min.js\", \"https://cdn.bokeh.org/bokeh/release/bokeh-tables-2.4.3.min.js\", \"https://cdn.bokeh.org/bokeh/release/bokeh-mathjax-2.4.3.min.js\", \"https://unpkg.com/@holoviz/panel@0.14.1/dist/panel.min.js\"];\n  var js_modules = [];\n  var css_urls = [\"https://cdn.holoviz.org/panel/0.14.1/dist/bundled/datatabulator/tabulator-tables@5.3.2/dist/css/tabulator_simple.min.css\", \"https://cdn.holoviz.org/panel/0.14.1/dist/css/debugger.css\", \"https://cdn.holoviz.org/panel/0.14.1/dist/css/alerts.css\", \"https://cdn.holoviz.org/panel/0.14.1/dist/css/card.css\", \"https://cdn.holoviz.org/panel/0.14.1/dist/css/widgets.css\", \"https://cdn.holoviz.org/panel/0.14.1/dist/css/markdown.css\", \"https://cdn.holoviz.org/panel/0.14.1/dist/css/json.css\", \"https://cdn.holoviz.org/panel/0.14.1/dist/css/loading.css\", \"https://cdn.holoviz.org/panel/0.14.1/dist/css/dataframe.css\"];\n  var inline_js = [    function(Bokeh) {\n      inject_raw_css(\"\\n    .bk.pn-loading.arc:before {\\n      background-image: url(\\\"data:image/svg+xml;base64,PHN2ZyB4bWxucz0iaHR0cDovL3d3dy53My5vcmcvMjAwMC9zdmciIHN0eWxlPSJtYXJnaW46IGF1dG87IGJhY2tncm91bmQ6IG5vbmU7IGRpc3BsYXk6IGJsb2NrOyBzaGFwZS1yZW5kZXJpbmc6IGF1dG87IiB2aWV3Qm94PSIwIDAgMTAwIDEwMCIgcHJlc2VydmVBc3BlY3RSYXRpbz0ieE1pZFlNaWQiPiAgPGNpcmNsZSBjeD0iNTAiIGN5PSI1MCIgZmlsbD0ibm9uZSIgc3Ryb2tlPSIjYzNjM2MzIiBzdHJva2Utd2lkdGg9IjEwIiByPSIzNSIgc3Ryb2tlLWRhc2hhcnJheT0iMTY0LjkzMzYxNDMxMzQ2NDE1IDU2Ljk3Nzg3MTQzNzgyMTM4Ij4gICAgPGFuaW1hdGVUcmFuc2Zvcm0gYXR0cmlidXRlTmFtZT0idHJhbnNmb3JtIiB0eXBlPSJyb3RhdGUiIHJlcGVhdENvdW50PSJpbmRlZmluaXRlIiBkdXI9IjFzIiB2YWx1ZXM9IjAgNTAgNTA7MzYwIDUwIDUwIiBrZXlUaW1lcz0iMDsxIj48L2FuaW1hdGVUcmFuc2Zvcm0+ICA8L2NpcmNsZT48L3N2Zz4=\\\");\\n      background-size: auto calc(min(50%, 400px));\\n    }\\n    \");\n    },    function(Bokeh) {\n      Bokeh.set_log_level(\"info\");\n    },\nfunction(Bokeh) {} // ensure no trailing comma for IE\n  ];\n\n  function run_inline_js() {\n    if ((root.Bokeh !== undefined) || (force === true)) {\n      for (var i = 0; i < inline_js.length; i++) {\n        inline_js[i].call(root, root.Bokeh);\n      }} else if (Date.now() < root._bokeh_timeout) {\n      setTimeout(run_inline_js, 100);\n    } else if (!root._bokeh_failed_load) {\n      console.log(\"Bokeh: BokehJS failed to load within specified timeout.\");\n      root._bokeh_failed_load = true;\n    }\n  }\n\n  if (root._bokeh_is_loading === 0) {\n    console.debug(\"Bokeh: BokehJS loaded, going straight to plotting\");\n    run_inline_js();\n  } else {\n    load_libs(css_urls, js_urls, js_modules, function() {\n      console.debug(\"Bokeh: BokehJS plotting callback run at\", now());\n      run_inline_js();\n    });\n  }\n}(window));",
      "application/vnd.holoviews_load.v0+json": ""
     },
     "metadata": {},
     "output_type": "display_data"
    },
    {
     "data": {
      "application/javascript": "\nif ((window.PyViz === undefined) || (window.PyViz instanceof HTMLElement)) {\n  window.PyViz = {comms: {}, comm_status:{}, kernels:{}, receivers: {}, plot_index: []}\n}\n\n\n    function JupyterCommManager() {\n    }\n\n    JupyterCommManager.prototype.register_target = function(plot_id, comm_id, msg_handler) {\n      if (window.comm_manager || ((window.Jupyter !== undefined) && (Jupyter.notebook.kernel != null))) {\n        var comm_manager = window.comm_manager || Jupyter.notebook.kernel.comm_manager;\n        comm_manager.register_target(comm_id, function(comm) {\n          comm.on_msg(msg_handler);\n        });\n      } else if ((plot_id in window.PyViz.kernels) && (window.PyViz.kernels[plot_id])) {\n        window.PyViz.kernels[plot_id].registerCommTarget(comm_id, function(comm) {\n          comm.onMsg = msg_handler;\n        });\n      } else if (typeof google != 'undefined' && google.colab.kernel != null) {\n        google.colab.kernel.comms.registerTarget(comm_id, (comm) => {\n          var messages = comm.messages[Symbol.asyncIterator]();\n          function processIteratorResult(result) {\n            var message = result.value;\n            console.log(message)\n            var content = {data: message.data, comm_id};\n            var buffers = []\n            for (var buffer of message.buffers || []) {\n              buffers.push(new DataView(buffer))\n            }\n            var metadata = message.metadata || {};\n            var msg = {content, buffers, metadata}\n            msg_handler(msg);\n            return messages.next().then(processIteratorResult);\n          }\n          return messages.next().then(processIteratorResult);\n        })\n      }\n    }\n\n    JupyterCommManager.prototype.get_client_comm = function(plot_id, comm_id, msg_handler) {\n      if (comm_id in window.PyViz.comms) {\n        return window.PyViz.comms[comm_id];\n      } else if (window.comm_manager || ((window.Jupyter !== undefined) && (Jupyter.notebook.kernel != null))) {\n        var comm_manager = window.comm_manager || Jupyter.notebook.kernel.comm_manager;\n        var comm = comm_manager.new_comm(comm_id, {}, {}, {}, comm_id);\n        if (msg_handler) {\n          comm.on_msg(msg_handler);\n        }\n      } else if ((plot_id in window.PyViz.kernels) && (window.PyViz.kernels[plot_id])) {\n        var comm = window.PyViz.kernels[plot_id].connectToComm(comm_id);\n        comm.open();\n        if (msg_handler) {\n          comm.onMsg = msg_handler;\n        }\n      } else if (typeof google != 'undefined' && google.colab.kernel != null) {\n        var comm_promise = google.colab.kernel.comms.open(comm_id)\n        comm_promise.then((comm) => {\n          window.PyViz.comms[comm_id] = comm;\n          if (msg_handler) {\n            var messages = comm.messages[Symbol.asyncIterator]();\n            function processIteratorResult(result) {\n              var message = result.value;\n              var content = {data: message.data};\n              var metadata = message.metadata || {comm_id};\n              var msg = {content, metadata}\n              msg_handler(msg);\n              return messages.next().then(processIteratorResult);\n            }\n            return messages.next().then(processIteratorResult);\n          }\n        }) \n        var sendClosure = (data, metadata, buffers, disposeOnDone) => {\n          return comm_promise.then((comm) => {\n            comm.send(data, metadata, buffers, disposeOnDone);\n          });\n        };\n        var comm = {\n          send: sendClosure\n        };\n      }\n      window.PyViz.comms[comm_id] = comm;\n      return comm;\n    }\n    window.PyViz.comm_manager = new JupyterCommManager();\n    \n\n\nvar JS_MIME_TYPE = 'application/javascript';\nvar HTML_MIME_TYPE = 'text/html';\nvar EXEC_MIME_TYPE = 'application/vnd.holoviews_exec.v0+json';\nvar CLASS_NAME = 'output';\n\n/**\n * Render data to the DOM node\n */\nfunction render(props, node) {\n  var div = document.createElement(\"div\");\n  var script = document.createElement(\"script\");\n  node.appendChild(div);\n  node.appendChild(script);\n}\n\n/**\n * Handle when a new output is added\n */\nfunction handle_add_output(event, handle) {\n  var output_area = handle.output_area;\n  var output = handle.output;\n  if ((output.data == undefined) || (!output.data.hasOwnProperty(EXEC_MIME_TYPE))) {\n    return\n  }\n  var id = output.metadata[EXEC_MIME_TYPE][\"id\"];\n  var toinsert = output_area.element.find(\".\" + CLASS_NAME.split(' ')[0]);\n  if (id !== undefined) {\n    var nchildren = toinsert.length;\n    var html_node = toinsert[nchildren-1].children[0];\n    html_node.innerHTML = output.data[HTML_MIME_TYPE];\n    var scripts = [];\n    var nodelist = html_node.querySelectorAll(\"script\");\n    for (var i in nodelist) {\n      if (nodelist.hasOwnProperty(i)) {\n        scripts.push(nodelist[i])\n      }\n    }\n\n    scripts.forEach( function (oldScript) {\n      var newScript = document.createElement(\"script\");\n      var attrs = [];\n      var nodemap = oldScript.attributes;\n      for (var j in nodemap) {\n        if (nodemap.hasOwnProperty(j)) {\n          attrs.push(nodemap[j])\n        }\n      }\n      attrs.forEach(function(attr) { newScript.setAttribute(attr.name, attr.value) });\n      newScript.appendChild(document.createTextNode(oldScript.innerHTML));\n      oldScript.parentNode.replaceChild(newScript, oldScript);\n    });\n    if (JS_MIME_TYPE in output.data) {\n      toinsert[nchildren-1].children[1].textContent = output.data[JS_MIME_TYPE];\n    }\n    output_area._hv_plot_id = id;\n    if ((window.Bokeh !== undefined) && (id in Bokeh.index)) {\n      window.PyViz.plot_index[id] = Bokeh.index[id];\n    } else {\n      window.PyViz.plot_index[id] = null;\n    }\n  } else if (output.metadata[EXEC_MIME_TYPE][\"server_id\"] !== undefined) {\n    var bk_div = document.createElement(\"div\");\n    bk_div.innerHTML = output.data[HTML_MIME_TYPE];\n    var script_attrs = bk_div.children[0].attributes;\n    for (var i = 0; i < script_attrs.length; i++) {\n      toinsert[toinsert.length - 1].childNodes[1].setAttribute(script_attrs[i].name, script_attrs[i].value);\n    }\n    // store reference to server id on output_area\n    output_area._bokeh_server_id = output.metadata[EXEC_MIME_TYPE][\"server_id\"];\n  }\n}\n\n/**\n * Handle when an output is cleared or removed\n */\nfunction handle_clear_output(event, handle) {\n  var id = handle.cell.output_area._hv_plot_id;\n  var server_id = handle.cell.output_area._bokeh_server_id;\n  if (((id === undefined) || !(id in PyViz.plot_index)) && (server_id !== undefined)) { return; }\n  var comm = window.PyViz.comm_manager.get_client_comm(\"hv-extension-comm\", \"hv-extension-comm\", function () {});\n  if (server_id !== null) {\n    comm.send({event_type: 'server_delete', 'id': server_id});\n    return;\n  } else if (comm !== null) {\n    comm.send({event_type: 'delete', 'id': id});\n  }\n  delete PyViz.plot_index[id];\n  if ((window.Bokeh !== undefined) & (id in window.Bokeh.index)) {\n    var doc = window.Bokeh.index[id].model.document\n    doc.clear();\n    const i = window.Bokeh.documents.indexOf(doc);\n    if (i > -1) {\n      window.Bokeh.documents.splice(i, 1);\n    }\n  }\n}\n\n/**\n * Handle kernel restart event\n */\nfunction handle_kernel_cleanup(event, handle) {\n  delete PyViz.comms[\"hv-extension-comm\"];\n  window.PyViz.plot_index = {}\n}\n\n/**\n * Handle update_display_data messages\n */\nfunction handle_update_output(event, handle) {\n  handle_clear_output(event, {cell: {output_area: handle.output_area}})\n  handle_add_output(event, handle)\n}\n\nfunction register_renderer(events, OutputArea) {\n  function append_mime(data, metadata, element) {\n    // create a DOM node to render to\n    var toinsert = this.create_output_subarea(\n    metadata,\n    CLASS_NAME,\n    EXEC_MIME_TYPE\n    );\n    this.keyboard_manager.register_events(toinsert);\n    // Render to node\n    var props = {data: data, metadata: metadata[EXEC_MIME_TYPE]};\n    render(props, toinsert[0]);\n    element.append(toinsert);\n    return toinsert\n  }\n\n  events.on('output_added.OutputArea', handle_add_output);\n  events.on('output_updated.OutputArea', handle_update_output);\n  events.on('clear_output.CodeCell', handle_clear_output);\n  events.on('delete.Cell', handle_clear_output);\n  events.on('kernel_ready.Kernel', handle_kernel_cleanup);\n\n  OutputArea.prototype.register_mime_type(EXEC_MIME_TYPE, append_mime, {\n    safe: true,\n    index: 0\n  });\n}\n\nif (window.Jupyter !== undefined) {\n  try {\n    var events = require('base/js/events');\n    var OutputArea = require('notebook/js/outputarea').OutputArea;\n    if (OutputArea.prototype.mime_types().indexOf(EXEC_MIME_TYPE) == -1) {\n      register_renderer(events, OutputArea);\n    }\n  } catch(err) {\n  }\n}\n",
      "application/vnd.holoviews_load.v0+json": ""
     },
     "metadata": {},
     "output_type": "display_data"
    },
    {
     "data": {
      "text/html": [
       "<style>.bk-root, .bk-root .bk:before, .bk-root .bk:after {\n",
       "  font-family: var(--jp-ui-font-size1);\n",
       "  font-size: var(--jp-ui-font-size1);\n",
       "  color: var(--jp-ui-font-color1);\n",
       "}\n",
       "</style>"
      ]
     },
     "metadata": {},
     "output_type": "display_data"
    }
   ],
   "source": [
    "import pandas as pd\n",
    "import numpy as np\n",
    "import panel as pn\n",
    "pn.extension (\"tabulator\", template=\"material\", sizing_mode=\"stretch_width\")\n",
    "import holoviews as hv\n",
    "import hvplot.pandas\n",
    "import datetime as dt"
   ]
  },
  {
   "cell_type": "code",
   "execution_count": 2,
   "metadata": {},
   "outputs": [],
   "source": [
    "# loading data and showing it as a table on top of the dashboard\n",
    "#https://docs.google.com/spreadsheets/d/13ikD5WpjmapBlKY4j2dTrwsZ-du3pdfpHhjIYwugcxM/edit?usp=sharing\n",
    "\n",
    "sheet_id=\"13ikD5WpjmapBlKY4j2dTrwsZ-du3pdfpHhjIYwugcxM\"    \n",
    "df_google_sheet= pd.read_csv(f\"https://docs.google.com/spreadsheets/d/{sheet_id}/export?format=csv\")    #add this /export?format=csv\n",
    "useful_data=df_google_sheet\n",
    "df_google_sheet=df_google_sheet.interactive()\n",
    "df_google_sheet1=df_google_sheet.hvplot.table( sortable=True, selectable=True)  \n",
    "#df_google_sheet1"
   ]
  },
  {
   "cell_type": "code",
   "execution_count": 3,
   "metadata": {},
   "outputs": [],
   "source": [
    "# not started table change the path according to location\n",
    "all_uc=pd.read_csv(\"/Users/smhz/Downloads/HAMZA.csv\")\n"
   ]
  },
  {
   "cell_type": "code",
   "execution_count": 4,
   "metadata": {},
   "outputs": [
    {
     "data": {
      "application/vnd.jupyter.widget-view+json": {
       "model_id": "6f9731bec055400ba27dbc4b35e6399b",
       "version_major": 2,
       "version_minor": 0
      },
      "text/plain": [
       "BokehModel(combine_events=True, render_bundle={'docs_json': {'b4d9850f-5f97-4a40-a613-57803c2c9281': {'defs': …"
      ]
     },
     "execution_count": 4,
     "metadata": {},
     "output_type": "execute_result"
    }
   ],
   "source": [
    "started_uc=list(useful_data[\"Cluster_Code\"].unique())\n",
    "not_started=all_uc\n",
    "#started_uc\n",
    "for i in started_uc:\n",
    "    #print(i)\n",
    "    #count[(count['A14']==1)]\n",
    "    not_started=not_started[(not_started[\"ID\"]!=i)]\n",
    "not_started\n",
    "#visualisation\n",
    "not_started_table = pn.widgets.Tabulator(\n",
    "    not_started, pagination='remote', layout='fit_columns', page_size=80, sizing_mode='stretch_width', name=\"Not started\"\n",
    "    #header_filters=filters , editors=editors\n",
    ")\n",
    "not_started_table"
   ]
  },
  {
   "cell_type": "code",
   "execution_count": 5,
   "metadata": {},
   "outputs": [
    {
     "data": {
      "application/vnd.jupyter.widget-view+json": {
       "model_id": "ad373a860d944c9b89f6e8155d99fb5d",
       "version_major": 2,
       "version_minor": 0
      },
      "text/plain": [
       "BokehModel(combine_events=True, render_bundle={'docs_json': {'41651c21-661e-40eb-aa1e-192a5102c44e': {'defs': …"
      ]
     },
     "execution_count": 5,
     "metadata": {},
     "output_type": "execute_result"
    }
   ],
   "source": [
    "# pending table\n",
    "#useful_data.columns\n",
    "all_started=useful_data[[\"Cluster_Code\",\"DISTRICT\",\"TEHSIL\",\"RURAL_URBAN\",\"RIVER_BASIN\",\"WATER_SHED\",\"UNION_COUNCIL\",\"Sampled_UC_Status\",\"A14\"]]\n",
    "all_started\n",
    "# table 3 \n",
    "#get the bifercaton of male and female from column a14 ,1 means male, 2 means female\n",
    "count=all_started[[\"Cluster_Code\",'DISTRICT','TEHSIL','RIVER_BASIN','WATER_SHED','UNION_COUNCIL','Sampled_UC_Status',\"A14\"]]\n",
    "count_total=count.groupby([\"Cluster_Code\",'DISTRICT','TEHSIL','RIVER_BASIN','WATER_SHED','UNION_COUNCIL','Sampled_UC_Status'], as_index=False)[\"A14\"].count()  #this gets all the names and the total surveys submitted for each cluster also as_index=False is extremely important to add\n",
    "count_male=count[(count['A14']==1)].groupby([\"Cluster_Code\",\"A14\"])[\"A14\"].count()  # gets male count\n",
    "#print(count_male)\n",
    "count_female=count[(count['A14']==2)].groupby([\"Cluster_Code\",\"A14\"])[\"A14\"].count() # gets female count\n",
    "#print(count_female)\n",
    "merge=pd.merge(count_male,count_female, how=\"outer\", on=\"Cluster_Code\") #left_on=\"Cluster_Code\", right_on=\"Cluster_Code\")\n",
    "#print(merge)\n",
    "#print(merge.dtypes)\n",
    "#merge_total=count_total.join(merge)\n",
    "merge_total=pd.merge(count_total,merge, how=\"outer\", on=\"Cluster_Code\")\n",
    "#print(count_total)\n",
    "#print(count.dtypes)\n",
    "# rename columns\n",
    "merge_total.rename(columns={\"A14\":\"Total\", \n",
    "                            \"A14_x\":\"Male\",\n",
    "                            \"A14_y\":\"Female\"},\n",
    "inplace=True, errors=\"raise\")\n",
    "#changing Nan to 0\n",
    "merge_total=merge_total.fillna(0)\n",
    "pending=merge_total[(merge_total[\"Male\"]<20) | (merge_total[\"Female\"]<4)]\n",
    "#pending[\"Female\"]\n",
    "pending\n",
    "\n",
    "#count_total\n",
    "#count_male\n",
    "#count_female\n",
    "#merge_total\n",
    "#visualisation\n",
    "pending_table = pn.widgets.Tabulator(\n",
    "    pending, pagination='remote', layout='fit_columns', page_size=80, sizing_mode='stretch_width', name=\"In progress\"\n",
    "    #header_filters=filters , editors=editors\n",
    ")\n",
    "pending_table"
   ]
  },
  {
   "cell_type": "code",
   "execution_count": 6,
   "metadata": {},
   "outputs": [
    {
     "data": {
      "application/vnd.jupyter.widget-view+json": {
       "model_id": "876168763b754099b74ce94e7b6ce1f1",
       "version_major": 2,
       "version_minor": 0
      },
      "text/plain": [
       "BokehModel(combine_events=True, render_bundle={'docs_json': {'2130c68c-1b2f-423c-8e62-f7e5427b8d58': {'defs': …"
      ]
     },
     "execution_count": 6,
     "metadata": {},
     "output_type": "execute_result"
    }
   ],
   "source": [
    "#completed table\n",
    "merge_total=merge_total.fillna(0)\n",
    "completed=merge_total[(merge_total[\"Male\"]>20) & (merge_total[\"Female\"]>4)]\n",
    "completed\n",
    "# create tabular form\n",
    "complete_table = pn.widgets.Tabulator(\n",
    "    completed, pagination='remote', layout='fit_columns', page_size=80, sizing_mode='stretch_width' ,name=\"Completed\"\n",
    "    #header_filters=filters , editors=editors\n",
    ")\n",
    "complete_table"
   ]
  },
  {
   "cell_type": "code",
   "execution_count": 7,
   "metadata": {},
   "outputs": [
    {
     "data": {
      "application/vnd.jupyter.widget-view+json": {
       "model_id": "4aa2407a05b24cc4a2516d481265ffe0",
       "version_major": 2,
       "version_minor": 0
      },
      "text/plain": [
       "BokehModel(combine_events=True, render_bundle={'docs_json': {'9aacb32e-04f7-4c04-ba97-a0e0fbc0db8c': {'defs': …"
      ]
     },
     "execution_count": 7,
     "metadata": {},
     "output_type": "execute_result"
    }
   ],
   "source": [
    "#date slider for daily progress\n",
    "#adding date filter\n",
    "#first is to make the widget\n",
    "datetime_range_slider = pn.widgets.DatetimeRangeSlider(\n",
    "    name='Datetime Range Slider',\n",
    "    start=dt.datetime(2022, 12, 1), end=dt.datetime(2022, 12, 31),\n",
    "    value=(dt.datetime(2022, 12, 1), dt.datetime(2022, 12, 31)),\n",
    "    step=10000\n",
    ")\n",
    "\n",
    "datetime_range_slider"
   ]
  },
  {
   "cell_type": "code",
   "execution_count": 8,
   "metadata": {},
   "outputs": [],
   "source": [
    "#date filter for daily progress\n",
    "#make a dataframe that has filtered data\n",
    "date=useful_data#[[\"Cluster_Code\",'DISTRICT','TEHSIL','RIVER_BASIN','WATER_SHED','UNION_COUNCIL','Sampled_UC_Status',\"A14\",\"Survey_Day\"]]\n",
    "date[\"Survey_Day\"]=pd.to_datetime(date[\"Survey_Day\"]) #convert format from object to date_type\n",
    "# filter_table2 = pn.widgets.Tabulator(\n",
    "#     merge_total, pagination='remote', layout='fit_columns', page_size=10, sizing_mode='stretch_width'\n",
    "#     #header_filters=filters , editors=editors\n",
    "# )"
   ]
  },
  {
   "cell_type": "code",
   "execution_count": 9,
   "metadata": {},
   "outputs": [
    {
     "data": {
      "text/html": [
       "<div>\n",
       "<style scoped>\n",
       "    .dataframe tbody tr th:only-of-type {\n",
       "        vertical-align: middle;\n",
       "    }\n",
       "\n",
       "    .dataframe tbody tr th {\n",
       "        vertical-align: top;\n",
       "    }\n",
       "\n",
       "    .dataframe thead th {\n",
       "        text-align: right;\n",
       "    }\n",
       "</style>\n",
       "<table border=\"1\" class=\"dataframe\">\n",
       "  <thead>\n",
       "    <tr style=\"text-align: right;\">\n",
       "      <th></th>\n",
       "      <th>Cluster_Code</th>\n",
       "      <th>DISTRICT</th>\n",
       "      <th>TEHSIL</th>\n",
       "      <th>RIVER_BASIN</th>\n",
       "      <th>WATER_SHED</th>\n",
       "      <th>UNION_COUNCIL</th>\n",
       "      <th>Sampled_UC_Status</th>\n",
       "      <th>Survey_Day</th>\n",
       "      <th>Total</th>\n",
       "      <th>Male</th>\n",
       "      <th>Female</th>\n",
       "    </tr>\n",
       "  </thead>\n",
       "  <tbody>\n",
       "    <tr>\n",
       "      <th>0</th>\n",
       "      <td>2</td>\n",
       "      <td>Chagai</td>\n",
       "      <td>Dalbandin</td>\n",
       "      <td>Hamun-e-Mushkhel</td>\n",
       "      <td>Gowanakkoh</td>\n",
       "      <td>CHALGAZI</td>\n",
       "      <td>Actual</td>\n",
       "      <td>2022-12-04</td>\n",
       "      <td>1</td>\n",
       "      <td>11</td>\n",
       "      <td>8.0</td>\n",
       "    </tr>\n",
       "    <tr>\n",
       "      <th>1</th>\n",
       "      <td>2</td>\n",
       "      <td>Chagai</td>\n",
       "      <td>Dalbandin</td>\n",
       "      <td>Hamun-e-Mushkhel</td>\n",
       "      <td>Gowanakkoh</td>\n",
       "      <td>CHALGAZI</td>\n",
       "      <td>Actual</td>\n",
       "      <td>2022-12-05</td>\n",
       "      <td>18</td>\n",
       "      <td>11</td>\n",
       "      <td>8.0</td>\n",
       "    </tr>\n",
       "    <tr>\n",
       "      <th>2</th>\n",
       "      <td>28</td>\n",
       "      <td>Khuzdar</td>\n",
       "      <td>Khuzdar</td>\n",
       "      <td>Hingol</td>\n",
       "      <td>Toba</td>\n",
       "      <td>TOTAK</td>\n",
       "      <td>Actual</td>\n",
       "      <td>2022-12-02</td>\n",
       "      <td>10</td>\n",
       "      <td>9</td>\n",
       "      <td>1.0</td>\n",
       "    </tr>\n",
       "    <tr>\n",
       "      <th>3</th>\n",
       "      <td>46</td>\n",
       "      <td>Harnai</td>\n",
       "      <td>Harnai</td>\n",
       "      <td>Nari</td>\n",
       "      <td>Harnai</td>\n",
       "      <td>NASAK</td>\n",
       "      <td>Actual</td>\n",
       "      <td>2022-12-05</td>\n",
       "      <td>11</td>\n",
       "      <td>11</td>\n",
       "      <td>0.0</td>\n",
       "    </tr>\n",
       "    <tr>\n",
       "      <th>4</th>\n",
       "      <td>56</td>\n",
       "      <td>Ziarat</td>\n",
       "      <td>Sinjawi</td>\n",
       "      <td>Nari</td>\n",
       "      <td>Chinjan</td>\n",
       "      <td>POI</td>\n",
       "      <td>Actual</td>\n",
       "      <td>2022-12-03</td>\n",
       "      <td>24</td>\n",
       "      <td>18</td>\n",
       "      <td>6.0</td>\n",
       "    </tr>\n",
       "    <tr>\n",
       "      <th>5</th>\n",
       "      <td>57</td>\n",
       "      <td>Ziarat</td>\n",
       "      <td>Ziarat</td>\n",
       "      <td>Nari</td>\n",
       "      <td>Shahrag</td>\n",
       "      <td>ZIARAT</td>\n",
       "      <td>Actual</td>\n",
       "      <td>2022-12-01</td>\n",
       "      <td>1</td>\n",
       "      <td>16</td>\n",
       "      <td>9.0</td>\n",
       "    </tr>\n",
       "    <tr>\n",
       "      <th>6</th>\n",
       "      <td>57</td>\n",
       "      <td>Ziarat</td>\n",
       "      <td>Ziarat</td>\n",
       "      <td>Nari</td>\n",
       "      <td>Shahrag</td>\n",
       "      <td>ZIARAT</td>\n",
       "      <td>Actual</td>\n",
       "      <td>2022-12-02</td>\n",
       "      <td>24</td>\n",
       "      <td>16</td>\n",
       "      <td>9.0</td>\n",
       "    </tr>\n",
       "    <tr>\n",
       "      <th>7</th>\n",
       "      <td>58</td>\n",
       "      <td>Ziarat</td>\n",
       "      <td>Ziarat</td>\n",
       "      <td>Nari</td>\n",
       "      <td>Shahrag</td>\n",
       "      <td>KWAS</td>\n",
       "      <td>Actual</td>\n",
       "      <td>2022-12-01</td>\n",
       "      <td>23</td>\n",
       "      <td>16</td>\n",
       "      <td>7.0</td>\n",
       "    </tr>\n",
       "    <tr>\n",
       "      <th>8</th>\n",
       "      <td>61</td>\n",
       "      <td>Killa Abdullah</td>\n",
       "      <td>Killa Abdullah</td>\n",
       "      <td>Pishin</td>\n",
       "      <td>Killa Abdullah</td>\n",
       "      <td>ARAMBAI</td>\n",
       "      <td>Actual</td>\n",
       "      <td>2022-12-01</td>\n",
       "      <td>13</td>\n",
       "      <td>24</td>\n",
       "      <td>0.0</td>\n",
       "    </tr>\n",
       "    <tr>\n",
       "      <th>9</th>\n",
       "      <td>61</td>\n",
       "      <td>Killa Abdullah</td>\n",
       "      <td>Killa Abdullah</td>\n",
       "      <td>Pishin</td>\n",
       "      <td>Killa Abdullah</td>\n",
       "      <td>ARAMBAI</td>\n",
       "      <td>Actual</td>\n",
       "      <td>2022-12-02</td>\n",
       "      <td>11</td>\n",
       "      <td>24</td>\n",
       "      <td>0.0</td>\n",
       "    </tr>\n",
       "    <tr>\n",
       "      <th>10</th>\n",
       "      <td>75</td>\n",
       "      <td>Quetta</td>\n",
       "      <td>Quetta Saddar</td>\n",
       "      <td>Pishin</td>\n",
       "      <td>Quetta</td>\n",
       "      <td>BALELI</td>\n",
       "      <td>Actual</td>\n",
       "      <td>2022-12-05</td>\n",
       "      <td>12</td>\n",
       "      <td>10</td>\n",
       "      <td>2.0</td>\n",
       "    </tr>\n",
       "  </tbody>\n",
       "</table>\n",
       "</div>"
      ],
      "text/plain": [
       "    Cluster_Code        DISTRICT          TEHSIL       RIVER_BASIN  \\\n",
       "0              2          Chagai       Dalbandin  Hamun-e-Mushkhel   \n",
       "1              2          Chagai       Dalbandin  Hamun-e-Mushkhel   \n",
       "2             28         Khuzdar         Khuzdar            Hingol   \n",
       "3             46          Harnai          Harnai              Nari   \n",
       "4             56          Ziarat         Sinjawi              Nari   \n",
       "5             57          Ziarat          Ziarat              Nari   \n",
       "6             57          Ziarat          Ziarat              Nari   \n",
       "7             58          Ziarat          Ziarat              Nari   \n",
       "8             61  Killa Abdullah  Killa Abdullah            Pishin   \n",
       "9             61  Killa Abdullah  Killa Abdullah            Pishin   \n",
       "10            75          Quetta   Quetta Saddar            Pishin   \n",
       "\n",
       "        WATER_SHED UNION_COUNCIL Sampled_UC_Status Survey_Day  Total  Male  \\\n",
       "0       Gowanakkoh      CHALGAZI            Actual 2022-12-04      1    11   \n",
       "1       Gowanakkoh      CHALGAZI            Actual 2022-12-05     18    11   \n",
       "2             Toba         TOTAK            Actual 2022-12-02     10     9   \n",
       "3           Harnai         NASAK            Actual 2022-12-05     11    11   \n",
       "4          Chinjan           POI            Actual 2022-12-03     24    18   \n",
       "5          Shahrag        ZIARAT            Actual 2022-12-01      1    16   \n",
       "6          Shahrag        ZIARAT            Actual 2022-12-02     24    16   \n",
       "7          Shahrag          KWAS            Actual 2022-12-01     23    16   \n",
       "8   Killa Abdullah       ARAMBAI            Actual 2022-12-01     13    24   \n",
       "9   Killa Abdullah       ARAMBAI            Actual 2022-12-02     11    24   \n",
       "10          Quetta        BALELI            Actual 2022-12-05     12    10   \n",
       "\n",
       "    Female  \n",
       "0      8.0  \n",
       "1      8.0  \n",
       "2      1.0  \n",
       "3      0.0  \n",
       "4      6.0  \n",
       "5      9.0  \n",
       "6      9.0  \n",
       "7      7.0  \n",
       "8      0.0  \n",
       "9      0.0  \n",
       "10     2.0  "
      ]
     },
     "execution_count": 9,
     "metadata": {},
     "output_type": "execute_result"
    }
   ],
   "source": [
    "# daily progress  \n",
    "#get the bifercaton of male and female from column a14 ,1 means male, 2 means female\n",
    "count=date[[\"Cluster_Code\",'DISTRICT','TEHSIL','RIVER_BASIN','WATER_SHED','UNION_COUNCIL','Sampled_UC_Status',\"A14\",\"Survey_Day\"]]\n",
    "count_total=count.groupby([\"Cluster_Code\",'DISTRICT','TEHSIL','RIVER_BASIN','WATER_SHED','UNION_COUNCIL','Sampled_UC_Status',\"Survey_Day\"], as_index=False)[\"A14\"].count()  #this gets all the names and the total surveys submitted for each cluster also as_index=False is extremely important to add\n",
    "count_male=count[(count['A14']==1)].groupby([\"Cluster_Code\",\"A14\"])[\"A14\"].count()  # gets male count\n",
    "#print(count_male)\n",
    "count_female=count[(count['A14']==2)].groupby([\"Cluster_Code\",\"A14\"])[\"A14\"].count() # gets female count\n",
    "#print(count_female)\n",
    "merge=pd.merge(count_male,count_female, how=\"outer\", on=\"Cluster_Code\") #left_on=\"Cluster_Code\", right_on=\"Cluster_Code\")\n",
    "#print(merge)\n",
    "#print(merge.dtypes)\n",
    "#merge_total=count_total.join(merge)\n",
    "merge_total=pd.merge(count_total,merge, how=\"outer\", on=\"Cluster_Code\")\n",
    "#print(count_total)\n",
    "#print(count.dtypes)\n",
    "# rename columns\n",
    "merge_total.rename(columns={\"A14\":\"Total\", \n",
    "                            \"A14_x\":\"Male\",\n",
    "                            \"A14_y\":\"Female\"},\n",
    "inplace=True, errors=\"raise\")\n",
    "#changing Nan to 0\n",
    "merge_total=merge_total.fillna(0)\n",
    "merge_total\n",
    "#count_total\n",
    "#count_male\n",
    "#count_female\n",
    "\n"
   ]
  },
  {
   "cell_type": "code",
   "execution_count": 18,
   "metadata": {},
   "outputs": [],
   "source": [
    "#visualisation of daily progress\n",
    "filter_table2 = pn.widgets.Tabulator(\n",
    "    merge_total, pagination='remote', layout='fit_columns', page_size=80, sizing_mode='stretch_width', name=\"Daily progress\"\n",
    "    #header_filters=filters , editors=editors\n",
    ")\n",
    "filter_table2.add_filter(datetime_range_slider,\"Survey_Day\")    # first input is the widget and the second input is the column on which the filter is added\n",
    "\n",
    "tab_daily_progress=pn.Column(datetime_range_slider,filter_table2, name=\"Daily progress\")\n"
   ]
  },
  {
   "cell_type": "code",
   "execution_count": 23,
   "metadata": {},
   "outputs": [],
   "source": [
    "tabulator_editors = {\n",
    "    'Cluster_Code': {'type': 'number', 'max': 80, 'step': 1},\n",
    "    # 'bool': {'type': 'tickCross', 'tristate': True, 'indeterminateValue': None},\n",
    "    # 'str': {'type': 'list', 'valuesLookup': True}\n",
    "}\n",
    "\n",
    "# header_filter_table = pn.widgets.Tabulator(\n",
    "#     df[['float', 'bool', 'str']], height=140, width=400, layout='fit_columns',\n",
    "#     editors=tabulator_editors, header_filters=True\n",
    "# )\n",
    "# header_filter_table"
   ]
  },
  {
   "cell_type": "code",
   "execution_count": 27,
   "metadata": {},
   "outputs": [],
   "source": [
    "#another table for cluster search progress\n",
    "filter_table3 = pn.widgets.Tabulator(\n",
    "    merge_total, pagination='remote', layout='fit_columns', page_size=80, sizing_mode='stretch_width', name=\"Daily progress\",\n",
    "    header_filters=tabulator_editors  \n",
    ")"
   ]
  },
  {
   "cell_type": "code",
   "execution_count": 32,
   "metadata": {},
   "outputs": [],
   "source": [
    "#making a tab for all this data\n",
    "tab_daily_progress=pn.Column(datetime_range_slider,filter_table2,\"UC Code wise search\",filter_table3, name=\"Daily progress\")\n"
   ]
  },
  {
   "cell_type": "code",
   "execution_count": 33,
   "metadata": {},
   "outputs": [
    {
     "name": "stdout",
     "output_type": "stream",
     "text": [
      "Launching server at http://localhost:63832\n"
     ]
    },
    {
     "data": {
      "text/plain": [
       "<panel.io.server.Server at 0x1267afe50>"
      ]
     },
     "execution_count": 33,
     "metadata": {},
     "output_type": "execute_result"
    },
    {
     "name": "stderr",
     "output_type": "stream",
     "text": [
      "WARNING:tornado.access:404 GET /favicon.ico (::1) 0.19ms\n"
     ]
    },
    {
     "name": "stdout",
     "output_type": "stream",
     "text": [
      "2022-12-06 12:50:08,950 ERROR: panel.reactive - Callback failed for object named \"Daily progress\" changing property {'filters': []} \n",
      "Traceback (most recent call last):\n",
      "  File \"/Users/smhz/Library/Python/3.8/lib/python/site-packages/panel/reactive.py\", line 319, in _process_events\n",
      "    self.param.update(**self_events)\n",
      "  File \"/Users/smhz/Library/Python/3.8/lib/python/site-packages/param/parameterized.py\", line 1898, in update\n",
      "    self_._batch_call_watchers()\n",
      "  File \"/Users/smhz/Library/Python/3.8/lib/python/site-packages/param/parameterized.py\", line 2059, in _batch_call_watchers\n",
      "    self_._execute_watcher(watcher, events)\n",
      "  File \"/Users/smhz/Library/Python/3.8/lib/python/site-packages/param/parameterized.py\", line 2021, in _execute_watcher\n",
      "    watcher.fn(*args, **kwargs)\n",
      "  File \"/Users/smhz/Library/Python/3.8/lib/python/site-packages/panel/widgets/tables.py\", line 1460, in _update_cds\n",
      "    self._update_style(recompute)\n",
      "  File \"/Users/smhz/Library/Python/3.8/lib/python/site-packages/panel/widgets/tables.py\", line 1340, in _update_style\n",
      "    self._apply_update([], msg, m, ref)\n",
      "  File \"/Users/smhz/Library/Python/3.8/lib/python/site-packages/panel/reactive.py\", line 240, in _apply_update\n",
      "    self._update_model(events, msg, root, model, doc, comm)\n",
      "  File \"/Library/Developer/CommandLineTools/Library/Frameworks/Python3.framework/Versions/3.8/lib/python3.8/contextlib.py\", line 120, in __exit__\n",
      "    next(self.gen)\n",
      "  File \"/Users/smhz/Library/Python/3.8/lib/python/site-packages/panel/io/document.py\", line 226, in unlocked\n",
      "    futures += dispatch_tornado(conn, event)\n",
      "  File \"/Users/smhz/Library/Python/3.8/lib/python/site-packages/panel/io/document.py\", line 161, in dispatch_tornado\n",
      "    WebSocketHandler.write_message(socket, msg.content_json)\n",
      "  File \"/Users/smhz/Library/Python/3.8/lib/python/site-packages/tornado/websocket.py\", line 336, in write_message\n",
      "    raise WebSocketClosedError()\n",
      "tornado.websocket.WebSocketClosedError\n"
     ]
    },
    {
     "name": "stderr",
     "output_type": "stream",
     "text": [
      "Task exception was never retrieved\n",
      "future: <Task finished name='Task-170440' coro=<WebSocketProtocol13.write_message.<locals>.wrapper() done, defined at /Users/smhz/Library/Python/3.8/lib/python/site-packages/tornado/websocket.py:1090> exception=WebSocketClosedError()>\n",
      "Traceback (most recent call last):\n",
      "  File \"/Users/smhz/Library/Python/3.8/lib/python/site-packages/tornado/websocket.py\", line 1092, in wrapper\n",
      "    await fut\n",
      "tornado.iostream.StreamClosedError: Stream is closed\n",
      "\n",
      "During handling of the above exception, another exception occurred:\n",
      "\n",
      "Traceback (most recent call last):\n",
      "  File \"/Users/smhz/Library/Python/3.8/lib/python/site-packages/tornado/websocket.py\", line 1094, in wrapper\n",
      "    raise WebSocketClosedError()\n",
      "tornado.websocket.WebSocketClosedError\n",
      "ERROR:tornado.application:Exception in callback functools.partial(<bound method IOLoop._discard_future_result of <tornado.platform.asyncio.AsyncIOMainLoop object at 0x107282160>>, <Task finished name='Task-170427' coro=<ServerSession.with_document_locked() done, defined at /Users/smhz/Library/Python/3.8/lib/python/site-packages/bokeh/server/session.py:78> exception=WebSocketClosedError()>)\n",
      "Traceback (most recent call last):\n",
      "  File \"/Users/smhz/Library/Python/3.8/lib/python/site-packages/tornado/ioloop.py\", line 740, in _run_callback\n",
      "    ret = callback()\n",
      "  File \"/Users/smhz/Library/Python/3.8/lib/python/site-packages/tornado/ioloop.py\", line 764, in _discard_future_result\n",
      "    future.result()\n",
      "  File \"/Users/smhz/Library/Python/3.8/lib/python/site-packages/bokeh/server/session.py\", line 99, in _needs_document_lock_wrapper\n",
      "    result = await result\n",
      "  File \"/Users/smhz/Library/Python/3.8/lib/python/site-packages/panel/reactive.py\", line 365, in _change_coroutine\n",
      "    state._handle_exception(e)\n",
      "  File \"/Users/smhz/Library/Python/3.8/lib/python/site-packages/panel/io/state.py\", line 399, in _handle_exception\n",
      "    raise exception\n",
      "  File \"/Users/smhz/Library/Python/3.8/lib/python/site-packages/panel/reactive.py\", line 363, in _change_coroutine\n",
      "    self._change_event(doc)\n",
      "  File \"/Users/smhz/Library/Python/3.8/lib/python/site-packages/panel/reactive.py\", line 381, in _change_event\n",
      "    self._process_events(events)\n",
      "  File \"/Users/smhz/Library/Python/3.8/lib/python/site-packages/panel/reactive.py\", line 1143, in _process_events\n",
      "    super(ReactiveData, self)._process_events(events)\n",
      "  File \"/Users/smhz/Library/Python/3.8/lib/python/site-packages/panel/reactive.py\", line 319, in _process_events\n",
      "    self.param.update(**self_events)\n",
      "  File \"/Users/smhz/Library/Python/3.8/lib/python/site-packages/param/parameterized.py\", line 1898, in update\n",
      "    self_._batch_call_watchers()\n",
      "  File \"/Users/smhz/Library/Python/3.8/lib/python/site-packages/param/parameterized.py\", line 2059, in _batch_call_watchers\n",
      "    self_._execute_watcher(watcher, events)\n",
      "  File \"/Users/smhz/Library/Python/3.8/lib/python/site-packages/param/parameterized.py\", line 2021, in _execute_watcher\n",
      "    watcher.fn(*args, **kwargs)\n",
      "  File \"/Users/smhz/Library/Python/3.8/lib/python/site-packages/panel/widgets/tables.py\", line 1460, in _update_cds\n",
      "    self._update_style(recompute)\n",
      "  File \"/Users/smhz/Library/Python/3.8/lib/python/site-packages/panel/widgets/tables.py\", line 1340, in _update_style\n",
      "    self._apply_update([], msg, m, ref)\n",
      "  File \"/Users/smhz/Library/Python/3.8/lib/python/site-packages/panel/reactive.py\", line 240, in _apply_update\n",
      "    self._update_model(events, msg, root, model, doc, comm)\n",
      "  File \"/Library/Developer/CommandLineTools/Library/Frameworks/Python3.framework/Versions/3.8/lib/python3.8/contextlib.py\", line 120, in __exit__\n",
      "    next(self.gen)\n",
      "  File \"/Users/smhz/Library/Python/3.8/lib/python/site-packages/panel/io/document.py\", line 226, in unlocked\n",
      "    futures += dispatch_tornado(conn, event)\n",
      "  File \"/Users/smhz/Library/Python/3.8/lib/python/site-packages/panel/io/document.py\", line 161, in dispatch_tornado\n",
      "    WebSocketHandler.write_message(socket, msg.content_json)\n",
      "  File \"/Users/smhz/Library/Python/3.8/lib/python/site-packages/tornado/websocket.py\", line 336, in write_message\n",
      "    raise WebSocketClosedError()\n",
      "tornado.websocket.WebSocketClosedError\n",
      "/Users/smhz/Library/Python/3.8/lib/python/site-packages/bokeh/document/document.py:435: RuntimeWarning: coroutine 'WSHandler.send_message' was never awaited\n",
      "  gc.collect()\n"
     ]
    }
   ],
   "source": [
    "#creating dashboard\n",
    "tabs=pn.Tabs(not_started_table,pending_table,complete_table,tab_daily_progress, dynamic=True)\n",
    "tabs.show()"
   ]
  }
 ],
 "metadata": {
  "kernelspec": {
   "display_name": "Python 3",
   "language": "python",
   "name": "python3"
  },
  "language_info": {
   "codemirror_mode": {
    "name": "ipython",
    "version": 3
   },
   "file_extension": ".py",
   "mimetype": "text/x-python",
   "name": "python",
   "nbconvert_exporter": "python",
   "pygments_lexer": "ipython3",
   "version": "3.8.9"
  },
  "orig_nbformat": 4,
  "vscode": {
   "interpreter": {
    "hash": "31f2aee4e71d21fbe5cf8b01ff0e069b9275f58929596ceb00d14d90e3e16cd6"
   }
  }
 },
 "nbformat": 4,
 "nbformat_minor": 2
}
